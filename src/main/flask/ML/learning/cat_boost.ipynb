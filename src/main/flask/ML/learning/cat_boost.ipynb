{
 "cells": [
  {
   "cell_type": "code",
   "id": "initial_id",
   "metadata": {
    "collapsed": true,
    "ExecuteTime": {
     "end_time": "2025-03-13T00:26:24.520642Z",
     "start_time": "2025-03-13T00:26:24.508112Z"
    }
   },
   "source": [
    "import pandas as pd\n",
    "import numpy as np\n",
    "from catboost import CatBoostRegressor, Pool, CatBoostClassifier\n",
    "from sklearn.model_selection import train_test_split, KFold, GridSearchCV\n",
    "from sklearn.metrics import r2_score, root_mean_squared_error, \\\n",
    "    mean_squared_error  # 수정: mean_squared_error 대신 root_mean_squared_error 사용"
   ],
   "outputs": [],
   "execution_count": 7
  },
  {
   "metadata": {
    "ExecuteTime": {
     "end_time": "2025-03-13T00:25:48.240167Z",
     "start_time": "2025-03-13T00:25:46.990920Z"
    }
   },
   "cell_type": "code",
   "source": [
    "df = pd.read_csv('../../csv/visit_all_in_one.csv')\n",
    "\n",
    "df_filter = df[~df['TRAVEL_MISSION_CHECK'].isnull()].copy()  # 'TRAVEL_MISSION_CHECK' 컬럼에 결측치가 없는 행만을 복사"
   ],
   "id": "accd0ac1bdef544b",
   "outputs": [
    {
     "name": "stderr",
     "output_type": "stream",
     "text": [
      "C:\\Users\\user1\\AppData\\Local\\Temp\\ipykernel_12988\\923352349.py:1: DtypeWarning: Columns (8,9) have mixed types. Specify dtype option on import or set low_memory=False.\n",
      "  df = pd.read_csv('../csv/visit_all_in_one.csv')\n"
     ]
    }
   ],
   "execution_count": 2
  },
  {
   "metadata": {
    "ExecuteTime": {
     "end_time": "2025-03-13T00:25:49.724168Z",
     "start_time": "2025-03-13T00:25:49.544700Z"
    }
   },
   "cell_type": "code",
   "source": [
    "# 미션 = 여행목적으로 보여짐 한 컬럼에 최대 3개가 있지만 일단 맨 처음 1개만 사용\n",
    "df_filter.loc[:, 'TRAVEL_MISSION_INT'] = df_filter['TRAVEL_MISSION_CHECK'].str.split(';').str[0].astype(int)\n",
    "\n",
    "df_learning = df_filter[[\n",
    "    'GENDER',  # 성별\n",
    "    'AGE_GRP',  # 연령대\n",
    "    # 여행스타일\n",
    "    'TRAVEL_STYL_1', 'TRAVEL_STYL_2', 'TRAVEL_STYL_3', 'TRAVEL_STYL_4', 'TRAVEL_STYL_5', 'TRAVEL_STYL_6',\n",
    "    'TRAVEL_STYL_7', 'TRAVEL_STYL_8',\n",
    "    'TRAVEL_MOTIVE_1',  # 여행동기 (3까지 있음)\n",
    "    'TRAVEL_COMPANIONS_NUM',  # 동반자 수\n",
    "    'TRAVEL_MISSION_INT',  # 여행 목적 최우선순위\n",
    "    'VISIT_AREA_NM',  # 방문지명\n",
    "    'VISIT_AREA_TYPE_CD',  # 방문지 유형 코드\n",
    "    'DGSTFN',  # 만족도\n",
    "]]\n",
    "\n",
    "df_learning = df_learning.dropna()\n",
    "\n",
    "df_learning['GENDER'] = df_learning['GENDER'].replace({'남': 1, '여': 0}).astype('int32')\n",
    "df_learning = df_learning[df_learning['VISIT_AREA_TYPE_CD'].isin(range(1, 9))]"
   ],
   "id": "fffab95f2ed3ae98",
   "outputs": [
    {
     "name": "stderr",
     "output_type": "stream",
     "text": [
      "C:\\Users\\user1\\AppData\\Local\\Temp\\ipykernel_12988\\4248028041.py:20: FutureWarning: Downcasting behavior in `replace` is deprecated and will be removed in a future version. To retain the old behavior, explicitly call `result.infer_objects(copy=False)`. To opt-in to the future behavior, set `pd.set_option('future.no_silent_downcasting', True)`\n",
      "  df_learning['GENDER'] = df_learning['GENDER'].replace({'남': 1, '여': 0}).astype('int32')\n"
     ]
    }
   ],
   "execution_count": 3
  },
  {
   "metadata": {
    "ExecuteTime": {
     "end_time": "2025-03-13T00:25:52.109040Z",
     "start_time": "2025-03-13T00:25:52.094481Z"
    }
   },
   "cell_type": "code",
   "source": [
    "# 범주형 변수 목록 (CatBoost에 전달)\n",
    "cat_features = ['GENDER', 'AGE_GRP', 'TRAVEL_STYL_1', 'TRAVEL_STYL_2', 'TRAVEL_STYL_3',\n",
    "                'TRAVEL_STYL_4', 'TRAVEL_STYL_5', 'TRAVEL_STYL_6', 'TRAVEL_STYL_7',\n",
    "                'TRAVEL_STYL_8', 'TRAVEL_MOTIVE_1', 'VISIT_AREA_TYPE_CD',\n",
    "                'TRAVEL_COMPANIONS_NUM', 'TRAVEL_MISSION_INT']\n",
    "df_learning[cat_features] = df_learning[cat_features].astype('int32')\n",
    "X = df_learning[cat_features]\n",
    "y = df_learning['DGSTFN']"
   ],
   "id": "7a406be26c20d206",
   "outputs": [],
   "execution_count": 4
  },
  {
   "metadata": {
    "ExecuteTime": {
     "end_time": "2025-03-13T00:25:53.830380Z",
     "start_time": "2025-03-13T00:25:53.806982Z"
    }
   },
   "cell_type": "code",
   "source": "X_train, X_test, y_train, y_test = train_test_split(X, y, random_state=42)",
   "id": "4d7b19f0998dfa2a",
   "outputs": [],
   "execution_count": 5
  },
  {
   "metadata": {
    "ExecuteTime": {
     "end_time": "2025-03-12T07:39:40.802800Z",
     "start_time": "2025-03-12T07:39:34.783074Z"
    }
   },
   "cell_type": "code",
   "source": [
    "# 데이터 비율 역수 기반 가중치\n",
    "class_counts = {1: 985, 2: 1862, 3: 11622, 4: 32560, 5: 39879}\n",
    "total = sum(class_counts.values())\n",
    "weights = np.array([total / class_counts[y] if y in class_counts else 1 for y in y_train])\n",
    "\n",
    "param_grid = {\n",
    "    'iterations': [500, 1000],\n",
    "    'depth': [6, 8, 10],\n",
    "    'learning_rate': [0.01, 0.05, 0.1]\n",
    "}\n",
    "train_pool = Pool(X_train, y_train, cat_features=cat_features, weight=weights)\n",
    "test_pool = Pool(X_test, y_test, cat_features=cat_features)\n",
    "\n",
    "cat_boost = CatBoostRegressor(\n",
    "    task_type=\"GPU\",\n",
    "    devices='0',\n",
    "    verbose=0,\n",
    "    early_stopping_rounds=50,\n",
    "    loss_function='MAE'\n",
    ")\n",
    "\n",
    "grid_search_result = cat_boost.grid_search(\n",
    "    param_grid,\n",
    "    X=train_pool,\n",
    "    cv=5,\n",
    "    verbose=False\n",
    ")\n",
    "\n",
    "print(\"최적 파라미터:\", grid_search_result['params'])\n",
    "print(\"최적 모델의 CV 점수 (최소 RMSE):\", min(grid_search_result['cv_results']['test-RMSE-mean']))"
   ],
   "id": "93eb43a332e6e500",
   "outputs": [
    {
     "name": "stderr",
     "output_type": "stream",
     "text": [
      "Default metric period is 5 because MAE is/are not implemented for GPU\n",
      "Default metric period is 5 because MAE is/are not implemented for GPU\n"
     ]
    },
    {
     "name": "stdout",
     "output_type": "stream",
     "text": [
      "bestTest = 1.509412702\n",
      "bestIteration = 499\n"
     ]
    },
    {
     "name": "stderr",
     "output_type": "stream",
     "text": [
      "Default metric period is 5 because MAE is/are not implemented for GPU\n"
     ]
    },
    {
     "ename": "KeyboardInterrupt",
     "evalue": "",
     "output_type": "error",
     "traceback": [
      "\u001B[1;31m---------------------------------------------------------------------------\u001B[0m",
      "\u001B[1;31mKeyboardInterrupt\u001B[0m                         Traceback (most recent call last)",
      "Cell \u001B[1;32mIn[29], line 22\u001B[0m\n\u001B[0;32m     12\u001B[0m test_pool \u001B[38;5;241m=\u001B[39m Pool(X_test, y_test, cat_features\u001B[38;5;241m=\u001B[39mcat_features)\n\u001B[0;32m     14\u001B[0m cat_boost \u001B[38;5;241m=\u001B[39m CatBoostRegressor(\n\u001B[0;32m     15\u001B[0m     task_type\u001B[38;5;241m=\u001B[39m\u001B[38;5;124m\"\u001B[39m\u001B[38;5;124mGPU\u001B[39m\u001B[38;5;124m\"\u001B[39m,\n\u001B[0;32m     16\u001B[0m     devices\u001B[38;5;241m=\u001B[39m\u001B[38;5;124m'\u001B[39m\u001B[38;5;124m0\u001B[39m\u001B[38;5;124m'\u001B[39m,\n\u001B[1;32m   (...)\u001B[0m\n\u001B[0;32m     19\u001B[0m     loss_function\u001B[38;5;241m=\u001B[39m\u001B[38;5;124m'\u001B[39m\u001B[38;5;124mMAE\u001B[39m\u001B[38;5;124m'\u001B[39m\n\u001B[0;32m     20\u001B[0m )\n\u001B[1;32m---> 22\u001B[0m grid_search_result \u001B[38;5;241m=\u001B[39m \u001B[43mcat_boost\u001B[49m\u001B[38;5;241;43m.\u001B[39;49m\u001B[43mgrid_search\u001B[49m\u001B[43m(\u001B[49m\n\u001B[0;32m     23\u001B[0m \u001B[43m    \u001B[49m\u001B[43mparam_grid\u001B[49m\u001B[43m,\u001B[49m\n\u001B[0;32m     24\u001B[0m \u001B[43m    \u001B[49m\u001B[43mX\u001B[49m\u001B[38;5;241;43m=\u001B[39;49m\u001B[43mtrain_pool\u001B[49m\u001B[43m,\u001B[49m\n\u001B[0;32m     25\u001B[0m \u001B[43m    \u001B[49m\u001B[43mcv\u001B[49m\u001B[38;5;241;43m=\u001B[39;49m\u001B[38;5;241;43m5\u001B[39;49m\u001B[43m,\u001B[49m\n\u001B[0;32m     26\u001B[0m \u001B[43m    \u001B[49m\u001B[43mverbose\u001B[49m\u001B[38;5;241;43m=\u001B[39;49m\u001B[38;5;28;43;01mFalse\u001B[39;49;00m\n\u001B[0;32m     27\u001B[0m \u001B[43m)\u001B[49m\n\u001B[0;32m     29\u001B[0m \u001B[38;5;28mprint\u001B[39m(\u001B[38;5;124m\"\u001B[39m\u001B[38;5;124m최적 파라미터:\u001B[39m\u001B[38;5;124m\"\u001B[39m, grid_search_result[\u001B[38;5;124m'\u001B[39m\u001B[38;5;124mparams\u001B[39m\u001B[38;5;124m'\u001B[39m])\n\u001B[0;32m     30\u001B[0m \u001B[38;5;28mprint\u001B[39m(\u001B[38;5;124m\"\u001B[39m\u001B[38;5;124m최적 모델의 CV 점수 (최소 RMSE):\u001B[39m\u001B[38;5;124m\"\u001B[39m, \u001B[38;5;28mmin\u001B[39m(grid_search_result[\u001B[38;5;124m'\u001B[39m\u001B[38;5;124mcv_results\u001B[39m\u001B[38;5;124m'\u001B[39m][\u001B[38;5;124m'\u001B[39m\u001B[38;5;124mtest-RMSE-mean\u001B[39m\u001B[38;5;124m'\u001B[39m]))\n",
      "File \u001B[1;32m~\\anaconda3\\Lib\\site-packages\\catboost\\core.py:4180\u001B[0m, in \u001B[0;36mCatBoost.grid_search\u001B[1;34m(self, param_grid, X, y, cv, partition_random_seed, calc_cv_statistics, search_by_train_test_split, refit, shuffle, stratified, train_size, verbose, plot, plot_file, log_cout, log_cerr)\u001B[0m\n\u001B[0;32m   4177\u001B[0m         \u001B[38;5;28;01mif\u001B[39;00m \u001B[38;5;129;01mnot\u001B[39;00m \u001B[38;5;28misinstance\u001B[39m(grid[key], Iterable):\n\u001B[0;32m   4178\u001B[0m             \u001B[38;5;28;01mraise\u001B[39;00m \u001B[38;5;167;01mTypeError\u001B[39;00m(\u001B[38;5;124m'\u001B[39m\u001B[38;5;124mParameter grid value is not iterable (key=\u001B[39m\u001B[38;5;132;01m{!r}\u001B[39;00m\u001B[38;5;124m, value=\u001B[39m\u001B[38;5;132;01m{!r}\u001B[39;00m\u001B[38;5;124m)\u001B[39m\u001B[38;5;124m'\u001B[39m\u001B[38;5;241m.\u001B[39mformat(key, grid[key]))\n\u001B[1;32m-> 4180\u001B[0m \u001B[38;5;28;01mreturn\u001B[39;00m \u001B[38;5;28;43mself\u001B[39;49m\u001B[38;5;241;43m.\u001B[39;49m\u001B[43m_tune_hyperparams\u001B[49m\u001B[43m(\u001B[49m\n\u001B[0;32m   4181\u001B[0m \u001B[43m    \u001B[49m\u001B[43mparam_grid\u001B[49m\u001B[38;5;241;43m=\u001B[39;49m\u001B[43mparam_grid\u001B[49m\u001B[43m,\u001B[49m\u001B[43m \u001B[49m\u001B[43mX\u001B[49m\u001B[38;5;241;43m=\u001B[39;49m\u001B[43mX\u001B[49m\u001B[43m,\u001B[49m\u001B[43m \u001B[49m\u001B[43my\u001B[49m\u001B[38;5;241;43m=\u001B[39;49m\u001B[43my\u001B[49m\u001B[43m,\u001B[49m\u001B[43m \u001B[49m\u001B[43mcv\u001B[49m\u001B[38;5;241;43m=\u001B[39;49m\u001B[43mcv\u001B[49m\u001B[43m,\u001B[49m\u001B[43m \u001B[49m\u001B[43mn_iter\u001B[49m\u001B[38;5;241;43m=\u001B[39;49m\u001B[38;5;241;43m-\u001B[39;49m\u001B[38;5;241;43m1\u001B[39;49m\u001B[43m,\u001B[49m\n\u001B[0;32m   4182\u001B[0m \u001B[43m    \u001B[49m\u001B[43mpartition_random_seed\u001B[49m\u001B[38;5;241;43m=\u001B[39;49m\u001B[43mpartition_random_seed\u001B[49m\u001B[43m,\u001B[49m\u001B[43m \u001B[49m\u001B[43mcalc_cv_statistics\u001B[49m\u001B[38;5;241;43m=\u001B[39;49m\u001B[43mcalc_cv_statistics\u001B[49m\u001B[43m,\u001B[49m\n\u001B[0;32m   4183\u001B[0m \u001B[43m    \u001B[49m\u001B[43msearch_by_train_test_split\u001B[49m\u001B[38;5;241;43m=\u001B[39;49m\u001B[43msearch_by_train_test_split\u001B[49m\u001B[43m,\u001B[49m\u001B[43m \u001B[49m\u001B[43mrefit\u001B[49m\u001B[38;5;241;43m=\u001B[39;49m\u001B[43mrefit\u001B[49m\u001B[43m,\u001B[49m\u001B[43m \u001B[49m\u001B[43mshuffle\u001B[49m\u001B[38;5;241;43m=\u001B[39;49m\u001B[43mshuffle\u001B[49m\u001B[43m,\u001B[49m\n\u001B[0;32m   4184\u001B[0m \u001B[43m    \u001B[49m\u001B[43mstratified\u001B[49m\u001B[38;5;241;43m=\u001B[39;49m\u001B[43mstratified\u001B[49m\u001B[43m,\u001B[49m\u001B[43m \u001B[49m\u001B[43mtrain_size\u001B[49m\u001B[38;5;241;43m=\u001B[39;49m\u001B[43mtrain_size\u001B[49m\u001B[43m,\u001B[49m\u001B[43m \u001B[49m\u001B[43mverbose\u001B[49m\u001B[38;5;241;43m=\u001B[39;49m\u001B[43mverbose\u001B[49m\u001B[43m,\u001B[49m\u001B[43m \u001B[49m\u001B[43mplot\u001B[49m\u001B[38;5;241;43m=\u001B[39;49m\u001B[43mplot\u001B[49m\u001B[43m,\u001B[49m\u001B[43m \u001B[49m\u001B[43mplot_file\u001B[49m\u001B[38;5;241;43m=\u001B[39;49m\u001B[43mplot_file\u001B[49m\u001B[43m,\u001B[49m\n\u001B[0;32m   4185\u001B[0m \u001B[43m    \u001B[49m\u001B[43mlog_cout\u001B[49m\u001B[38;5;241;43m=\u001B[39;49m\u001B[43mlog_cout\u001B[49m\u001B[43m,\u001B[49m\u001B[43m \u001B[49m\u001B[43mlog_cerr\u001B[49m\u001B[38;5;241;43m=\u001B[39;49m\u001B[43mlog_cerr\u001B[49m\u001B[43m,\u001B[49m\n\u001B[0;32m   4186\u001B[0m \u001B[43m\u001B[49m\u001B[43m)\u001B[49m\n",
      "File \u001B[1;32m~\\anaconda3\\Lib\\site-packages\\catboost\\core.py:4072\u001B[0m, in \u001B[0;36mCatBoost._tune_hyperparams\u001B[1;34m(self, param_grid, X, y, cv, n_iter, partition_random_seed, calc_cv_statistics, search_by_train_test_split, refit, shuffle, stratified, train_size, verbose, plot, plot_file, log_cout, log_cerr)\u001B[0m\n\u001B[0;32m   4069\u001B[0m     stratified \u001B[38;5;241m=\u001B[39m \u001B[38;5;28misinstance\u001B[39m(loss_function, STRING_TYPES) \u001B[38;5;129;01mand\u001B[39;00m is_cv_stratified_objective(loss_function)\n\u001B[0;32m   4071\u001B[0m \u001B[38;5;28;01mwith\u001B[39;00m plot_wrapper(plot, plot_file, \u001B[38;5;124m'\u001B[39m\u001B[38;5;124mHyperparameters search plot\u001B[39m\u001B[38;5;124m'\u001B[39m, [_get_train_dir(params)]):\n\u001B[1;32m-> 4072\u001B[0m     cv_result \u001B[38;5;241m=\u001B[39m \u001B[38;5;28;43mself\u001B[39;49m\u001B[38;5;241;43m.\u001B[39;49m\u001B[43m_object\u001B[49m\u001B[38;5;241;43m.\u001B[39;49m\u001B[43m_tune_hyperparams\u001B[49m\u001B[43m(\u001B[49m\n\u001B[0;32m   4073\u001B[0m \u001B[43m        \u001B[49m\u001B[43mparam_grid\u001B[49m\u001B[43m,\u001B[49m\u001B[43m \u001B[49m\u001B[43mtrain_params\u001B[49m\u001B[43m[\u001B[49m\u001B[38;5;124;43m\"\u001B[39;49m\u001B[38;5;124;43mtrain_pool\u001B[39;49m\u001B[38;5;124;43m\"\u001B[39;49m\u001B[43m]\u001B[49m\u001B[43m,\u001B[49m\u001B[43m \u001B[49m\u001B[43mparams\u001B[49m\u001B[43m,\u001B[49m\u001B[43m \u001B[49m\u001B[43mn_iter\u001B[49m\u001B[43m,\u001B[49m\n\u001B[0;32m   4074\u001B[0m \u001B[43m        \u001B[49m\u001B[43mfold_count\u001B[49m\u001B[43m,\u001B[49m\u001B[43m \u001B[49m\u001B[43mpartition_random_seed\u001B[49m\u001B[43m,\u001B[49m\u001B[43m \u001B[49m\u001B[43mshuffle\u001B[49m\u001B[43m,\u001B[49m\u001B[43m \u001B[49m\u001B[43mstratified\u001B[49m\u001B[43m,\u001B[49m\u001B[43m \u001B[49m\u001B[43mtrain_size\u001B[49m\u001B[43m,\u001B[49m\n\u001B[0;32m   4075\u001B[0m \u001B[43m        \u001B[49m\u001B[43msearch_by_train_test_split\u001B[49m\u001B[43m,\u001B[49m\u001B[43m \u001B[49m\u001B[43mcalc_cv_statistics\u001B[49m\u001B[43m,\u001B[49m\u001B[43m \u001B[49m\u001B[43mcustom_folds\u001B[49m\u001B[43m,\u001B[49m\u001B[43m \u001B[49m\u001B[43mverbose\u001B[49m\n\u001B[0;32m   4076\u001B[0m \u001B[43m    \u001B[49m\u001B[43m)\u001B[49m\n\u001B[0;32m   4078\u001B[0m \u001B[38;5;28;01mif\u001B[39;00m refit:\n\u001B[0;32m   4079\u001B[0m     \u001B[38;5;28;01massert\u001B[39;00m \u001B[38;5;129;01mnot\u001B[39;00m \u001B[38;5;28mself\u001B[39m\u001B[38;5;241m.\u001B[39mis_fitted()\n",
      "File \u001B[1;32m_catboost.pyx:5340\u001B[0m, in \u001B[0;36m_catboost._CatBoost._tune_hyperparams\u001B[1;34m()\u001B[0m\n",
      "File \u001B[1;32m_catboost.pyx:5378\u001B[0m, in \u001B[0;36m_catboost._CatBoost._tune_hyperparams\u001B[1;34m()\u001B[0m\n",
      "\u001B[1;31mKeyboardInterrupt\u001B[0m: "
     ]
    }
   ],
   "execution_count": 29
  },
  {
   "metadata": {
    "ExecuteTime": {
     "end_time": "2025-03-12T07:37:43.639440Z",
     "start_time": "2025-03-12T07:37:43.534706Z"
    }
   },
   "cell_type": "code",
   "outputs": [
    {
     "ename": "TypeError",
     "evalue": "CatBoost.grid_search() missing 1 required positional argument: 'param_grid'",
     "output_type": "error",
     "traceback": [
      "\u001B[1;31m---------------------------------------------------------------------------\u001B[0m",
      "\u001B[1;31mTypeError\u001B[0m                                 Traceback (most recent call last)",
      "Cell \u001B[1;32mIn[28], line 22\u001B[0m\n\u001B[0;32m     13\u001B[0m test_pool \u001B[38;5;241m=\u001B[39m Pool(X_test, y_test, cat_features\u001B[38;5;241m=\u001B[39mcat_features)\n\u001B[0;32m     15\u001B[0m cat_boost \u001B[38;5;241m=\u001B[39m CatBoostRegressor(\n\u001B[0;32m     16\u001B[0m     task_type\u001B[38;5;241m=\u001B[39m\u001B[38;5;124m\"\u001B[39m\u001B[38;5;124mGPU\u001B[39m\u001B[38;5;124m\"\u001B[39m,\n\u001B[0;32m     17\u001B[0m     devices\u001B[38;5;241m=\u001B[39m\u001B[38;5;124m'\u001B[39m\u001B[38;5;124m0\u001B[39m\u001B[38;5;124m'\u001B[39m,\n\u001B[0;32m     18\u001B[0m     verbose\u001B[38;5;241m=\u001B[39m\u001B[38;5;241m0\u001B[39m,\n\u001B[0;32m     19\u001B[0m     early_stopping_rounds\u001B[38;5;241m=\u001B[39m\u001B[38;5;241m50\u001B[39m\n\u001B[0;32m     20\u001B[0m )\n\u001B[1;32m---> 22\u001B[0m grid_search_result \u001B[38;5;241m=\u001B[39m \u001B[43mcat_boost\u001B[49m\u001B[38;5;241;43m.\u001B[39;49m\u001B[43mgrid_search\u001B[49m\u001B[43m(\u001B[49m\n\u001B[0;32m     23\u001B[0m \u001B[43m    \u001B[49m\u001B[43mX\u001B[49m\u001B[38;5;241;43m=\u001B[39;49m\u001B[43mtrain_pool\u001B[49m\u001B[43m,\u001B[49m\n\u001B[0;32m     24\u001B[0m \u001B[43m    \u001B[49m\u001B[43mcv\u001B[49m\u001B[38;5;241;43m=\u001B[39;49m\u001B[38;5;241;43m5\u001B[39;49m\u001B[43m,\u001B[49m\n\u001B[0;32m     25\u001B[0m \u001B[43m    \u001B[49m\u001B[43mverbose\u001B[49m\u001B[38;5;241;43m=\u001B[39;49m\u001B[38;5;28;43;01mFalse\u001B[39;49;00m\n\u001B[0;32m     26\u001B[0m \u001B[43m)\u001B[49m\n\u001B[0;32m     28\u001B[0m \u001B[38;5;28mprint\u001B[39m(\u001B[38;5;124m\"\u001B[39m\u001B[38;5;124m최적 파라미터:\u001B[39m\u001B[38;5;124m\"\u001B[39m, grid_search_result[\u001B[38;5;124m'\u001B[39m\u001B[38;5;124mparams\u001B[39m\u001B[38;5;124m'\u001B[39m])\n\u001B[0;32m     29\u001B[0m \u001B[38;5;28mprint\u001B[39m(\u001B[38;5;124m\"\u001B[39m\u001B[38;5;124m최적 모델의 CV 점수 (최소 RMSE):\u001B[39m\u001B[38;5;124m\"\u001B[39m, \u001B[38;5;28mmin\u001B[39m(grid_search_result[\u001B[38;5;124m'\u001B[39m\u001B[38;5;124mcv_results\u001B[39m\u001B[38;5;124m'\u001B[39m][\u001B[38;5;124m'\u001B[39m\u001B[38;5;124mtest-RMSE-mean\u001B[39m\u001B[38;5;124m'\u001B[39m]))\n",
      "\u001B[1;31mTypeError\u001B[0m: CatBoost.grid_search() missing 1 required positional argument: 'param_grid'"
     ]
    }
   ],
   "execution_count": 28,
   "source": [
    "final_model = CatBoostRegressor(\n",
    "    task_type=\"GPU\",\n",
    "    devices='0',\n",
    "    verbose=0,\n",
    "    **grid_search_result['params']\n",
    ")\n",
    "final_model.fit(train_pool)\n",
    "y_pred = final_model.predict(test_pool)\n",
    "\n",
    "for score in [1, 2, 3, 4, 5]:\n",
    "    mask = y_test == score\n",
    "    rmse = mean_squared_error(y_test[mask], y_pred[mask], squared=False)\n",
    "    print(f\"{score}점 RMSE: {rmse}\")"
   ],
   "id": "4c12ab574fa473ba"
  },
  {
   "metadata": {
    "ExecuteTime": {
     "end_time": "2025-03-12T07:18:40.458990Z",
     "start_time": "2025-03-12T07:18:40.434827Z"
    }
   },
   "cell_type": "code",
   "source": [
    "y_pred = cat_boost.predict(test_pool)\n",
    "for score in [1, 2, 3, 4, 5]:\n",
    "    mask = y_test == score\n",
    "    rmse = mean_squared_error(y_test[mask], y_pred[mask], squared=False)\n",
    "    print(f\"{score}점 RMSE: {rmse}\")"
   ],
   "id": "8bea672b2bed81a1",
   "outputs": [
    {
     "name": "stdout",
     "output_type": "stream",
     "text": [
      "1점 RMSE: 2.4548208165749226\n",
      "2점 RMSE: 1.433672484215067\n",
      "3점 RMSE: 0.4655178833965014\n",
      "4점 RMSE: 0.5893905103025215\n",
      "5점 RMSE: 1.4698931558182577\n"
     ]
    },
    {
     "name": "stderr",
     "output_type": "stream",
     "text": [
      "C:\\Users\\user\\anaconda3\\Lib\\site-packages\\sklearn\\metrics\\_regression.py:483: FutureWarning: 'squared' is deprecated in version 1.4 and will be removed in 1.6. To calculate the root mean squared error, use the function'root_mean_squared_error'.\n",
      "  warnings.warn(\n",
      "C:\\Users\\user\\anaconda3\\Lib\\site-packages\\sklearn\\metrics\\_regression.py:483: FutureWarning: 'squared' is deprecated in version 1.4 and will be removed in 1.6. To calculate the root mean squared error, use the function'root_mean_squared_error'.\n",
      "  warnings.warn(\n",
      "C:\\Users\\user\\anaconda3\\Lib\\site-packages\\sklearn\\metrics\\_regression.py:483: FutureWarning: 'squared' is deprecated in version 1.4 and will be removed in 1.6. To calculate the root mean squared error, use the function'root_mean_squared_error'.\n",
      "  warnings.warn(\n",
      "C:\\Users\\user\\anaconda3\\Lib\\site-packages\\sklearn\\metrics\\_regression.py:483: FutureWarning: 'squared' is deprecated in version 1.4 and will be removed in 1.6. To calculate the root mean squared error, use the function'root_mean_squared_error'.\n",
      "  warnings.warn(\n",
      "C:\\Users\\user\\anaconda3\\Lib\\site-packages\\sklearn\\metrics\\_regression.py:483: FutureWarning: 'squared' is deprecated in version 1.4 and will be removed in 1.6. To calculate the root mean squared error, use the function'root_mean_squared_error'.\n",
      "  warnings.warn(\n"
     ]
    }
   ],
   "execution_count": 25
  },
  {
   "metadata": {
    "ExecuteTime": {
     "end_time": "2025-03-12T07:07:51.421438Z",
     "start_time": "2025-03-12T07:07:51.417935Z"
    }
   },
   "cell_type": "code",
   "source": [
    "from catboost import CatBoostRegressor\n",
    "\n",
    "model = CatBoostRegressor(task_type=\"GPU\", devices='0')\n",
    "print(model.get_param('task_type'))"
   ],
   "id": "32be21c2f36c36c5",
   "outputs": [
    {
     "name": "stdout",
     "output_type": "stream",
     "text": [
      "GPU\n"
     ]
    }
   ],
   "execution_count": 17
  },
  {
   "metadata": {
    "ExecuteTime": {
     "end_time": "2025-03-10T07:01:20.876144Z",
     "start_time": "2025-03-10T07:01:20.863897Z"
    }
   },
   "cell_type": "code",
   "source": [
    "# 평가\n",
    "y_pred_train = cat_boost.predict(X_train)\n",
    "y_pred_test = cat_boost.predict(X_test)"
   ],
   "id": "78f73f86c1cb3e05",
   "outputs": [],
   "execution_count": 37
  },
  {
   "metadata": {
    "ExecuteTime": {
     "end_time": "2025-03-10T07:01:22.361586Z",
     "start_time": "2025-03-10T07:01:22.353540Z"
    }
   },
   "cell_type": "code",
   "source": [
    "print(\"훈련 점수 (R²):\", r2_score(y_train, y_pred_train))\n",
    "print(\"테스트 점수 (R²):\", r2_score(y_test, y_pred_test))\n",
    "print(\"훈련 RMSE:\", root_mean_squared_error(y_train, y_pred_train, squared=False))\n",
    "print(\"테스트 RMSE:\", root_mean_squared_error(y_test, y_pred_test, squared=False))"
   ],
   "id": "4a53a50ee020a352",
   "outputs": [
    {
     "name": "stdout",
     "output_type": "stream",
     "text": [
      "훈련 점수 (R²): 0.27851779254813\n",
      "테스트 점수 (R²): 0.05502653981425354\n",
      "훈련 RMSE: 0.6913850974606907\n",
      "테스트 RMSE: 0.8025361827270289\n"
     ]
    },
    {
     "name": "stderr",
     "output_type": "stream",
     "text": [
      "C:\\Users\\user1\\anaconda3\\Lib\\site-packages\\sklearn\\metrics\\_regression.py:483: FutureWarning: 'squared' is deprecated in version 1.4 and will be removed in 1.6. To calculate the root mean squared error, use the function'root_mean_squared_error'.\n",
      "  warnings.warn(\n",
      "C:\\Users\\user1\\anaconda3\\Lib\\site-packages\\sklearn\\metrics\\_regression.py:483: FutureWarning: 'squared' is deprecated in version 1.4 and will be removed in 1.6. To calculate the root mean squared error, use the function'root_mean_squared_error'.\n",
      "  warnings.warn(\n"
     ]
    }
   ],
   "execution_count": 38
  },
  {
   "metadata": {
    "ExecuteTime": {
     "end_time": "2025-03-10T07:09:28.940545Z",
     "start_time": "2025-03-10T07:04:18.433481Z"
    }
   },
   "cell_type": "code",
   "source": [
    "# K-Fold 설정 (K=5)\n",
    "kfold = KFold(n_splits=10, shuffle=True, random_state=42)\n",
    "\n",
    "# 결과 저장용 리스트\n",
    "train_r2_scores = []\n",
    "test_r2_scores = []\n",
    "train_rmse_scores = []\n",
    "test_rmse_scores = []\n",
    "\n",
    "# K-Fold 학습 및 평가\n",
    "for train_idx, test_idx in kfold.split(X):\n",
    "    X_train, X_test = X.iloc[train_idx], X.iloc[test_idx]\n",
    "    y_train, y_test = y.iloc[train_idx], y.iloc[test_idx]\n",
    "\n",
    "    # 샘플 가중치\n",
    "    sample_weights = np.where(y_train <= 3, 10, 1)\n",
    "\n",
    "    # CatBoost 모델\n",
    "    cat_model = CatBoostRegressor(\n",
    "        iterations=1000,\n",
    "        depth=6,\n",
    "        learning_rate=0.1,\n",
    "        random_seed=42,\n",
    "        cat_features=cat_features,\n",
    "        verbose=0  # 출력 최소화\n",
    "    )\n",
    "\n",
    "    # 학습\n",
    "    cat_model.fit(X_train, y_train, sample_weight=sample_weights)\n",
    "\n",
    "    # 예측\n",
    "    y_train_pred = cat_model.predict(X_train)\n",
    "    y_test_pred = cat_model.predict(X_test)\n",
    "\n",
    "    # 평가\n",
    "    train_r2 = r2_score(y_train, y_train_pred)\n",
    "    test_r2 = r2_score(y_test, y_test_pred)\n",
    "    train_rmse = root_mean_squared_error(y_train, y_train_pred, squared=False)\n",
    "    test_rmse = root_mean_squared_error(y_test, y_test_pred, squared=False)\n",
    "\n",
    "    train_r2_scores.append(train_r2)\n",
    "    test_r2_scores.append(test_r2)\n",
    "    train_rmse_scores.append(train_rmse)\n",
    "    test_rmse_scores.append(test_rmse)\n",
    "\n",
    "# 결과 출력\n",
    "print(\"훈련 R² 평균:\", np.mean(train_r2_scores), \"표준편차:\", np.std(train_r2_scores))\n",
    "print(\"테스트 R² 평균:\", np.mean(test_r2_scores), \"표준편차:\", np.std(test_r2_scores))\n",
    "print(\"훈련 RMSE 평균:\", np.mean(train_rmse_scores), \"표준편차:\", np.std(train_rmse_scores))\n",
    "print(\"테스트 RMSE 평균:\", np.mean(test_rmse_scores), \"표준편차:\", np.std(test_rmse_scores))"
   ],
   "id": "48bcb3791ca920c",
   "outputs": [
    {
     "name": "stderr",
     "output_type": "stream",
     "text": [
      "C:\\Users\\user1\\anaconda3\\Lib\\site-packages\\sklearn\\metrics\\_regression.py:483: FutureWarning: 'squared' is deprecated in version 1.4 and will be removed in 1.6. To calculate the root mean squared error, use the function'root_mean_squared_error'.\n",
      "  warnings.warn(\n",
      "C:\\Users\\user1\\anaconda3\\Lib\\site-packages\\sklearn\\metrics\\_regression.py:483: FutureWarning: 'squared' is deprecated in version 1.4 and will be removed in 1.6. To calculate the root mean squared error, use the function'root_mean_squared_error'.\n",
      "  warnings.warn(\n",
      "C:\\Users\\user1\\anaconda3\\Lib\\site-packages\\sklearn\\metrics\\_regression.py:483: FutureWarning: 'squared' is deprecated in version 1.4 and will be removed in 1.6. To calculate the root mean squared error, use the function'root_mean_squared_error'.\n",
      "  warnings.warn(\n",
      "C:\\Users\\user1\\anaconda3\\Lib\\site-packages\\sklearn\\metrics\\_regression.py:483: FutureWarning: 'squared' is deprecated in version 1.4 and will be removed in 1.6. To calculate the root mean squared error, use the function'root_mean_squared_error'.\n",
      "  warnings.warn(\n",
      "C:\\Users\\user1\\anaconda3\\Lib\\site-packages\\sklearn\\metrics\\_regression.py:483: FutureWarning: 'squared' is deprecated in version 1.4 and will be removed in 1.6. To calculate the root mean squared error, use the function'root_mean_squared_error'.\n",
      "  warnings.warn(\n",
      "C:\\Users\\user1\\anaconda3\\Lib\\site-packages\\sklearn\\metrics\\_regression.py:483: FutureWarning: 'squared' is deprecated in version 1.4 and will be removed in 1.6. To calculate the root mean squared error, use the function'root_mean_squared_error'.\n",
      "  warnings.warn(\n",
      "C:\\Users\\user1\\anaconda3\\Lib\\site-packages\\sklearn\\metrics\\_regression.py:483: FutureWarning: 'squared' is deprecated in version 1.4 and will be removed in 1.6. To calculate the root mean squared error, use the function'root_mean_squared_error'.\n",
      "  warnings.warn(\n",
      "C:\\Users\\user1\\anaconda3\\Lib\\site-packages\\sklearn\\metrics\\_regression.py:483: FutureWarning: 'squared' is deprecated in version 1.4 and will be removed in 1.6. To calculate the root mean squared error, use the function'root_mean_squared_error'.\n",
      "  warnings.warn(\n",
      "C:\\Users\\user1\\anaconda3\\Lib\\site-packages\\sklearn\\metrics\\_regression.py:483: FutureWarning: 'squared' is deprecated in version 1.4 and will be removed in 1.6. To calculate the root mean squared error, use the function'root_mean_squared_error'.\n",
      "  warnings.warn(\n",
      "C:\\Users\\user1\\anaconda3\\Lib\\site-packages\\sklearn\\metrics\\_regression.py:483: FutureWarning: 'squared' is deprecated in version 1.4 and will be removed in 1.6. To calculate the root mean squared error, use the function'root_mean_squared_error'.\n",
      "  warnings.warn(\n",
      "C:\\Users\\user1\\anaconda3\\Lib\\site-packages\\sklearn\\metrics\\_regression.py:483: FutureWarning: 'squared' is deprecated in version 1.4 and will be removed in 1.6. To calculate the root mean squared error, use the function'root_mean_squared_error'.\n",
      "  warnings.warn(\n",
      "C:\\Users\\user1\\anaconda3\\Lib\\site-packages\\sklearn\\metrics\\_regression.py:483: FutureWarning: 'squared' is deprecated in version 1.4 and will be removed in 1.6. To calculate the root mean squared error, use the function'root_mean_squared_error'.\n",
      "  warnings.warn(\n",
      "C:\\Users\\user1\\anaconda3\\Lib\\site-packages\\sklearn\\metrics\\_regression.py:483: FutureWarning: 'squared' is deprecated in version 1.4 and will be removed in 1.6. To calculate the root mean squared error, use the function'root_mean_squared_error'.\n",
      "  warnings.warn(\n",
      "C:\\Users\\user1\\anaconda3\\Lib\\site-packages\\sklearn\\metrics\\_regression.py:483: FutureWarning: 'squared' is deprecated in version 1.4 and will be removed in 1.6. To calculate the root mean squared error, use the function'root_mean_squared_error'.\n",
      "  warnings.warn(\n",
      "C:\\Users\\user1\\anaconda3\\Lib\\site-packages\\sklearn\\metrics\\_regression.py:483: FutureWarning: 'squared' is deprecated in version 1.4 and will be removed in 1.6. To calculate the root mean squared error, use the function'root_mean_squared_error'.\n",
      "  warnings.warn(\n",
      "C:\\Users\\user1\\anaconda3\\Lib\\site-packages\\sklearn\\metrics\\_regression.py:483: FutureWarning: 'squared' is deprecated in version 1.4 and will be removed in 1.6. To calculate the root mean squared error, use the function'root_mean_squared_error'.\n",
      "  warnings.warn(\n",
      "C:\\Users\\user1\\anaconda3\\Lib\\site-packages\\sklearn\\metrics\\_regression.py:483: FutureWarning: 'squared' is deprecated in version 1.4 and will be removed in 1.6. To calculate the root mean squared error, use the function'root_mean_squared_error'.\n",
      "  warnings.warn(\n",
      "C:\\Users\\user1\\anaconda3\\Lib\\site-packages\\sklearn\\metrics\\_regression.py:483: FutureWarning: 'squared' is deprecated in version 1.4 and will be removed in 1.6. To calculate the root mean squared error, use the function'root_mean_squared_error'.\n",
      "  warnings.warn(\n"
     ]
    },
    {
     "name": "stdout",
     "output_type": "stream",
     "text": [
      "훈련 R² 평균: -0.5162281210233252 표준편차: 0.027407033185964703\n",
      "테스트 R² 평균: -0.7155182458402003 표준편차: 0.07186657890452681\n",
      "훈련 RMSE 평균: 1.0058385083830332 표준편차: 0.010234000305692393\n",
      "테스트 RMSE 평균: 1.0691336903109563 표준편차: 0.010544343926380735\n"
     ]
    },
    {
     "name": "stderr",
     "output_type": "stream",
     "text": [
      "C:\\Users\\user1\\anaconda3\\Lib\\site-packages\\sklearn\\metrics\\_regression.py:483: FutureWarning: 'squared' is deprecated in version 1.4 and will be removed in 1.6. To calculate the root mean squared error, use the function'root_mean_squared_error'.\n",
      "  warnings.warn(\n",
      "C:\\Users\\user1\\anaconda3\\Lib\\site-packages\\sklearn\\metrics\\_regression.py:483: FutureWarning: 'squared' is deprecated in version 1.4 and will be removed in 1.6. To calculate the root mean squared error, use the function'root_mean_squared_error'.\n",
      "  warnings.warn(\n"
     ]
    }
   ],
   "execution_count": 41
  },
  {
   "metadata": {
    "ExecuteTime": {
     "end_time": "2025-03-10T08:46:37.920893Z",
     "start_time": "2025-03-10T08:46:37.912377Z"
    }
   },
   "cell_type": "code",
   "source": "X.shape",
   "id": "3d30a4ae3966745a",
   "outputs": [
    {
     "data": {
      "text/plain": [
       "(30772, 14)"
      ]
     },
     "execution_count": 46,
     "metadata": {},
     "output_type": "execute_result"
    }
   ],
   "execution_count": 46
  },
  {
   "metadata": {
    "ExecuteTime": {
     "end_time": "2025-03-10T08:48:41.926237Z",
     "start_time": "2025-03-10T08:47:10.426070Z"
    }
   },
   "cell_type": "code",
   "source": [
    "best_model = grid_search.best_estimator_\n",
    "\n",
    "# 전체 데이터 예측\n",
    "y_pred = best_model.predict(X)\n",
    "print(\"전체 데이터 R²:\", r2_score(y, y_pred))\n",
    "print(\"전체 데이터 RMSE:\", root_mean_squared_error(y, y_pred))\n",
    "\n",
    "X_train, X_test, y_train, y_test = train_test_split(X, y, test_size=0.2, random_state=42)\n",
    "best_model.fit(X_train, y_train, sample_weight=np.where(y_train <= 3, 10, 1))\n",
    "y_train_pred = best_model.predict(X_train)\n",
    "y_test_pred = best_model.predict(X_test)\n",
    "print(\"훈련 R²:\", r2_score(y_train, y_train_pred))\n",
    "print(\"테스트 R²:\", r2_score(y_test, y_test_pred))\n",
    "print(\"훈련 RMSE:\", root_mean_squared_error(y_train, y_train_pred))\n",
    "print(\"테스트 RMSE:\", root_mean_squared_error(y_test, y_test_pred))"
   ],
   "id": "7c675b0f9c1db383",
   "outputs": [
    {
     "name": "stdout",
     "output_type": "stream",
     "text": [
      "전체 데이터 R²: 0.21874904142807305\n",
      "전체 데이터 RMSE: 0.7220314910684418\n",
      "훈련 R²: 0.2732779444814256\n",
      "테스트 R²: -0.09269269993083662\n",
      "훈련 RMSE: 0.6942567680792459\n",
      "테스트 RMSE: 0.864182679123528\n"
     ]
    }
   ],
   "execution_count": 49
  },
  {
   "metadata": {
    "ExecuteTime": {
     "end_time": "2025-03-12T07:57:34.265581Z",
     "start_time": "2025-03-12T07:56:10.159512Z"
    }
   },
   "cell_type": "code",
   "source": [
    "from catboost import CatBoostClassifier, Pool\n",
    "import numpy as np\n",
    "\n",
    "# 이진 분류로 변환 (4~5점: 1, 1~3점: 0)\n",
    "y_train_binary = np.where(y_train >= 4, 1, 0)\n",
    "y_test_binary = np.where(y_test >= 4, 1, 0)\n",
    "\n",
    "train_pool = Pool(X_train, y_train_binary, cat_features=cat_features)\n",
    "test_pool = Pool(X_test, y_test_binary, cat_features=cat_features)\n",
    "\n",
    "cat_boost = CatBoostClassifier(\n",
    "    task_type=\"GPU\",\n",
    "    devices='0',\n",
    "    verbose=0,\n",
    "    early_stopping_rounds=50,\n",
    "    eval_metric='F1'  # 소수 클래스(0)와 다수 클래스(1) 균형 고려\n",
    ")\n",
    "\n",
    "param_grid = {\n",
    "    'iterations': [500, 1000],\n",
    "    'depth': [6, 8, 10],\n",
    "    'learning_rate': [0.01, 0.05, 0.1]\n",
    "}\n",
    "\n",
    "grid_search_result = cat_boost.grid_search(\n",
    "    param_grid,\n",
    "    X=train_pool,\n",
    "    cv=5,\n",
    "    verbose=False\n",
    ")\n",
    "\n",
    "print(\"최적 파라미터:\", grid_search_result['params'])\n",
    "print(\"최적 모델의 CV 점수 (최소 Logloss):\", min(grid_search_result['cv_results']['test-Logloss-mean']))"
   ],
   "id": "eb9a4ae60156cf40",
   "outputs": [
    {
     "name": "stdout",
     "output_type": "stream",
     "text": [
      "bestTest = 0.9201076149\n",
      "bestIteration = 0\n",
      "bestTest = 0.9201076149\n",
      "bestIteration = 0\n",
      "bestTest = 0.9201076149\n",
      "bestIteration = 0\n",
      "bestTest = 0.9201076149\n",
      "bestIteration = 0\n",
      "bestTest = 0.9201076149\n",
      "bestIteration = 0\n",
      "bestTest = 0.9201076149\n",
      "bestIteration = 0\n",
      "bestTest = 0.9201076149\n",
      "bestIteration = 0\n",
      "bestTest = 0.9201076149\n",
      "bestIteration = 0\n",
      "bestTest = 0.9201076149\n",
      "bestIteration = 0\n",
      "bestTest = 0.9201076149\n",
      "bestIteration = 0\n",
      "bestTest = 0.9201076149\n",
      "bestIteration = 0\n",
      "bestTest = 0.9201076149\n",
      "bestIteration = 0\n",
      "bestTest = 0.9201076149\n",
      "bestIteration = 0\n",
      "bestTest = 0.9201076149\n",
      "bestIteration = 0\n",
      "bestTest = 0.9201076149\n",
      "bestIteration = 0\n",
      "bestTest = 0.9201076149\n",
      "bestIteration = 0\n",
      "bestTest = 0.9201076149\n",
      "bestIteration = 0\n",
      "bestTest = 0.9201076149\n",
      "bestIteration = 0\n",
      "Training on fold [0/5]\n",
      "bestTest = 0.9209911173\n",
      "bestIteration = 0\n",
      "Training on fold [1/5]\n",
      "bestTest = 0.9209911173\n",
      "bestIteration = 0\n",
      "Training on fold [2/5]\n",
      "bestTest = 0.9209911173\n",
      "bestIteration = 0\n",
      "Training on fold [3/5]\n",
      "bestTest = 0.9209911173\n",
      "bestIteration = 0\n",
      "Training on fold [4/5]\n",
      "bestTest = 0.9210987726\n",
      "bestIteration = 0\n",
      "최적 파라미터: {'depth': 6, 'learning_rate': 0.01, 'iterations': 500}\n",
      "최적 모델의 CV 점수 (최소 Logloss): 0.5043178108180792\n"
     ]
    }
   ],
   "execution_count": 30
  },
  {
   "metadata": {
    "ExecuteTime": {
     "end_time": "2025-03-13T00:27:18.718953Z",
     "start_time": "2025-03-13T00:27:06.295964Z"
    }
   },
   "cell_type": "code",
   "source": [
    "# 이진 분류로 변환 (4~5점: 1, 1~3점: 0)\n",
    "y_train_binary = np.where(y_train >= 4, 1, 0)\n",
    "y_test_binary = np.where(y_test >= 4, 1, 0)\n",
    "\n",
    "train_pool = Pool(X_train, y_train_binary, cat_features=cat_features)\n",
    "test_pool = Pool(X_test, y_test_binary, cat_features=cat_features)\n",
    "\n",
    "# 최적 모델로 재학습\n",
    "final_model = CatBoostClassifier(\n",
    "    devices='0',\n",
    "    verbose=0,\n",
    "    early_stopping_rounds=50,\n",
    "    eval_metric='F1',\n",
    "    iterations=500,  # grid_search_result['params']['iterations']\n",
    "    depth=6,  # grid_search_result['params']['depth']\n",
    "    learning_rate=0.01  # grid_search_result['params']['learning_rate']\n",
    ")\n",
    "final_model.fit(train_pool)\n",
    "\n",
    "# 사용자 입력 예시 (X_input: 새로운 사용자 데이터)\n",
    "X_input = X_test.iloc[0:1]  # 예시로 첫 번째 테스트 데이터 사용\n",
    "input_pool = Pool(X_input, cat_features=cat_features)\n",
    "\n",
    "# 모든 여행지에 대해 예측 (가정: 여행지별로 데이터를 반복 생성)\n",
    "travel_areas = range(1, 9)  # VISIT_AREA_TYPE_CD 범위\n",
    "probs = []\n",
    "for area in travel_areas:\n",
    "    X_input['VISIT_AREA_TYPE_CD'] = area\n",
    "    input_pool = Pool(X_input, cat_features=cat_features)\n",
    "    prob = final_model.predict_proba(input_pool)[0][1]  # 4~5점일 확률\n",
    "    probs.append((area, prob))\n",
    "\n",
    "# 상위 10개 추천\n",
    "top_10 = sorted(probs, key=lambda x: x[1], reverse=True)[:10]\n",
    "print(\"추천 여행지 (VISIT_AREA_TYPE_CD):\", [x[0] for x in top_10])"
   ],
   "id": "1e7d28a09fcb0b",
   "outputs": [
    {
     "name": "stdout",
     "output_type": "stream",
     "text": [
      "추천 여행지 (VISIT_AREA_TYPE_CD): [1, 5, 3, 6, 7, 2, 8, 4]\n"
     ]
    },
    {
     "name": "stderr",
     "output_type": "stream",
     "text": [
      "C:\\Users\\user1\\AppData\\Local\\Temp\\ipykernel_12988\\2183182500.py:28: SettingWithCopyWarning: \n",
      "A value is trying to be set on a copy of a slice from a DataFrame.\n",
      "Try using .loc[row_indexer,col_indexer] = value instead\n",
      "\n",
      "See the caveats in the documentation: https://pandas.pydata.org/pandas-docs/stable/user_guide/indexing.html#returning-a-view-versus-a-copy\n",
      "  X_input['VISIT_AREA_TYPE_CD'] = area\n"
     ]
    }
   ],
   "execution_count": 10
  },
  {
   "metadata": {
    "ExecuteTime": {
     "end_time": "2025-03-13T00:27:27.796878Z",
     "start_time": "2025-03-13T00:27:27.770764Z"
    }
   },
   "cell_type": "code",
   "source": [
    "y_pred = final_model.predict(test_pool)\n",
    "from sklearn.metrics import classification_report\n",
    "\n",
    "print(classification_report(y_test_binary, y_pred))"
   ],
   "id": "4f3f484b51145b6c",
   "outputs": [
    {
     "name": "stdout",
     "output_type": "stream",
     "text": [
      "              precision    recall  f1-score   support\n",
      "\n",
      "           0       0.00      0.00      0.00      1134\n",
      "           1       0.85      1.00      0.92      6559\n",
      "\n",
      "    accuracy                           0.85      7693\n",
      "   macro avg       0.43      0.50      0.46      7693\n",
      "weighted avg       0.73      0.85      0.78      7693\n",
      "\n"
     ]
    },
    {
     "name": "stderr",
     "output_type": "stream",
     "text": [
      "C:\\Users\\user1\\anaconda3\\Lib\\site-packages\\sklearn\\metrics\\_classification.py:1509: UndefinedMetricWarning: Precision is ill-defined and being set to 0.0 in labels with no predicted samples. Use `zero_division` parameter to control this behavior.\n",
      "  _warn_prf(average, modifier, f\"{metric.capitalize()} is\", len(result))\n",
      "C:\\Users\\user1\\anaconda3\\Lib\\site-packages\\sklearn\\metrics\\_classification.py:1509: UndefinedMetricWarning: Precision is ill-defined and being set to 0.0 in labels with no predicted samples. Use `zero_division` parameter to control this behavior.\n",
      "  _warn_prf(average, modifier, f\"{metric.capitalize()} is\", len(result))\n",
      "C:\\Users\\user1\\anaconda3\\Lib\\site-packages\\sklearn\\metrics\\_classification.py:1509: UndefinedMetricWarning: Precision is ill-defined and being set to 0.0 in labels with no predicted samples. Use `zero_division` parameter to control this behavior.\n",
      "  _warn_prf(average, modifier, f\"{metric.capitalize()} is\", len(result))\n"
     ]
    }
   ],
   "execution_count": 11
  }
 ],
 "metadata": {
  "kernelspec": {
   "display_name": "Python 3",
   "language": "python",
   "name": "python3"
  },
  "language_info": {
   "codemirror_mode": {
    "name": "ipython",
    "version": 2
   },
   "file_extension": ".py",
   "mimetype": "text/x-python",
   "name": "python",
   "nbconvert_exporter": "python",
   "pygments_lexer": "ipython2",
   "version": "2.7.6"
  }
 },
 "nbformat": 4,
 "nbformat_minor": 5
}
