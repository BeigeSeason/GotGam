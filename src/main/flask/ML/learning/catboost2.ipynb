{
 "cells": [
  {
   "cell_type": "code",
   "id": "initial_id",
   "metadata": {
    "collapsed": true,
    "ExecuteTime": {
     "end_time": "2025-03-13T01:49:08.785996Z",
     "start_time": "2025-03-13T01:49:08.775979Z"
    }
   },
   "source": [
    "import pandas as pd\n",
    "import numpy as np\n",
    "from sklearn.preprocessing import LabelEncoder\n",
    "from catboost import CatBoostRegressor, Pool, CatBoostClassifier\n",
    "from sklearn.model_selection import train_test_split, KFold, GridSearchCV\n",
    "from sklearn.metrics import r2_score, root_mean_squared_error, \\\n",
    "    mean_squared_error  # 수정: mean_squared_error 대신 root_mean_squared_error 사용\n",
    "from sklearn.model_selection import train_test_split\n",
    "from sklearn.metrics import accuracy_score, classification_report\n",
    "from imblearn.over_sampling import SMOTE, SMOTENC"
   ],
   "outputs": [],
   "execution_count": 32
  },
  {
   "metadata": {
    "ExecuteTime": {
     "end_time": "2025-03-13T00:31:48.456184Z",
     "start_time": "2025-03-13T00:31:47.016714Z"
    }
   },
   "cell_type": "code",
   "source": [
    "df = pd.read_csv('../../csv/visit_all_in_one.csv', low_memory=False)\n",
    "\n",
    "df_filter = df[~df['TRAVEL_MISSION_CHECK'].isnull()].copy()  # 'TRAVEL_MISSION_CHECK' 컬럼에 결측치가 없는 행만을 복사"
   ],
   "id": "94d35dfbf48ac391",
   "outputs": [],
   "execution_count": 3
  },
  {
   "metadata": {
    "ExecuteTime": {
     "end_time": "2025-03-13T00:31:58.189038Z",
     "start_time": "2025-03-13T00:31:58.015970Z"
    }
   },
   "cell_type": "code",
   "source": [
    "# 미션 = 여행목적으로 보여짐 한 컬럼에 최대 3개가 있지만 일단 맨 처음 1개만 사용\n",
    "df_filter.loc[:, 'TRAVEL_MISSION_INT'] = df_filter['TRAVEL_MISSION_CHECK'].str.split(';').str[0].astype(int)\n",
    "\n",
    "df_learning = df_filter[[\n",
    "    'GENDER',  # 성별\n",
    "    'AGE_GRP',  # 연령대\n",
    "    # 여행스타일\n",
    "    'TRAVEL_STYL_1', 'TRAVEL_STYL_2', 'TRAVEL_STYL_3', 'TRAVEL_STYL_4', 'TRAVEL_STYL_5', 'TRAVEL_STYL_6',\n",
    "    'TRAVEL_STYL_7', 'TRAVEL_STYL_8',\n",
    "    'TRAVEL_MOTIVE_1',  # 여행동기 (3까지 있음)\n",
    "    'TRAVEL_COMPANIONS_NUM',  # 동반자 수\n",
    "    'TRAVEL_MISSION_INT',  # 여행 목적 최우선순위\n",
    "    'VISIT_AREA_NM',  # 방문지명\n",
    "    'VISIT_AREA_TYPE_CD',  # 방문지 유형 코드\n",
    "    'DGSTFN',  # 만족도\n",
    "]]\n",
    "\n",
    "df_learning = df_learning.dropna()\n",
    "\n",
    "df_learning['GENDER'] = df_learning['GENDER'].replace({'남': 1, '여': 0}).astype('int32')\n",
    "df_learning = df_learning[df_learning['VISIT_AREA_TYPE_CD'].isin(range(1, 9))]"
   ],
   "id": "245133901e662c5a",
   "outputs": [
    {
     "name": "stderr",
     "output_type": "stream",
     "text": [
      "C:\\Users\\user1\\AppData\\Local\\Temp\\ipykernel_11200\\3954066008.py:20: FutureWarning: Downcasting behavior in `replace` is deprecated and will be removed in a future version. To retain the old behavior, explicitly call `result.infer_objects(copy=False)`. To opt-in to the future behavior, set `pd.set_option('future.no_silent_downcasting', True)`\n",
      "  df_learning['GENDER'] = df_learning['GENDER'].replace({'남': 1, '여': 0}).astype('int32')\n"
     ]
    }
   ],
   "execution_count": 4
  },
  {
   "metadata": {
    "ExecuteTime": {
     "end_time": "2025-03-13T01:03:44.756597Z",
     "start_time": "2025-03-13T01:03:44.743703Z"
    }
   },
   "cell_type": "code",
   "source": [
    "# 범주형 변수 목록 (CatBoost에 전달)\n",
    "cat_features = ['GENDER', 'AGE_GRP', 'TRAVEL_STYL_1', 'TRAVEL_STYL_2', 'TRAVEL_STYL_3',\n",
    "                'TRAVEL_STYL_4', 'TRAVEL_STYL_5', 'TRAVEL_STYL_6', 'TRAVEL_STYL_7',\n",
    "                'TRAVEL_STYL_8', 'TRAVEL_MOTIVE_1', 'VISIT_AREA_TYPE_CD',\n",
    "                'TRAVEL_COMPANIONS_NUM', 'TRAVEL_MISSION_INT']\n",
    "df_learning[cat_features] = df_learning[cat_features].astype('int32')\n",
    "X = df_learning[cat_features]\n",
    "y = df_learning['DGSTFN']"
   ],
   "id": "17d37f9ecc119590",
   "outputs": [],
   "execution_count": 19
  },
  {
   "metadata": {
    "ExecuteTime": {
     "end_time": "2025-03-13T00:47:32.996151Z",
     "start_time": "2025-03-13T00:46:19.522402Z"
    }
   },
   "cell_type": "code",
   "source": [
    "# # 학습 데이터와 테스트 데이터 분리 (80% 학습, 20% 테스트)\n",
    "# X_train, X_test, y_train, y_test = train_test_split(X, y, test_size=0.2, random_state=42)\n",
    "# class_weights = {1.0: 10, 2.0: 5, 3.0: 2, 4.0: 1, 5.0: 1}\n",
    "#\n",
    "# # CatBoost 분류기 초기화\n",
    "# model = CatBoostClassifier(\n",
    "#     class_weights=class_weights,\n",
    "#     iterations=1000,        # 반복 횟수\n",
    "#     learning_rate=0.1,      # 학습률\n",
    "#     depth=6,                # 트리 깊이\n",
    "#     loss_function='MultiClass',  # 다중 클래스 분류\n",
    "#     eval_metric='Accuracy',      # 평가 지표\n",
    "#     random_seed=42,\n",
    "#     verbose=100             # 학습 과정 출력 간격\n",
    "# )\n",
    "#\n",
    "# # 모델 학습\n",
    "# model.fit(X_train, y_train, cat_features=cat_features, eval_set=(X_test, y_test))\n",
    "#\n",
    "# # 테스트 데이터로 예측\n",
    "# y_pred = model.predict(X_test)\n",
    "#\n",
    "# # 모델 성능 평가\n",
    "# print(\"Accuracy:\", accuracy_score(y_test, y_pred))\n",
    "# print(\"Classification Report:\\n\", classification_report(y_test, y_pred))"
   ],
   "id": "183276c2f09ea60e",
   "outputs": [
    {
     "name": "stdout",
     "output_type": "stream",
     "text": [
      "0:\tlearn: 0.2331735\ttest: 0.2276168\tbest: 0.2276168 (0)\ttotal: 102ms\tremaining: 1m 41s\n",
      "100:\tlearn: 0.3015309\ttest: 0.2512058\tbest: 0.2512058 (100)\ttotal: 9.09s\tremaining: 1m 20s\n",
      "200:\tlearn: 0.3174321\ttest: 0.2515357\tbest: 0.2558182 (117)\ttotal: 15.5s\tremaining: 1m 1s\n",
      "300:\tlearn: 0.3267609\ttest: 0.2561265\tbest: 0.2585661 (298)\ttotal: 22.5s\tremaining: 52.3s\n",
      "400:\tlearn: 0.3367221\ttest: 0.2541472\tbest: 0.2594715 (334)\ttotal: 29.2s\tremaining: 43.6s\n",
      "500:\tlearn: 0.3438879\ttest: 0.2555484\tbest: 0.2594715 (334)\ttotal: 35.5s\tremaining: 35.4s\n",
      "600:\tlearn: 0.3539931\ttest: 0.2578886\tbest: 0.2594715 (334)\ttotal: 42.2s\tremaining: 28s\n",
      "700:\tlearn: 0.3617042\ttest: 0.2529266\tbest: 0.2594715 (334)\ttotal: 49.6s\tremaining: 21.2s\n",
      "800:\tlearn: 0.3678490\ttest: 0.2497489\tbest: 0.2594715 (334)\ttotal: 57.1s\tremaining: 14.2s\n",
      "900:\tlearn: 0.3807880\ttest: 0.2523764\tbest: 0.2594715 (334)\ttotal: 1m 4s\tremaining: 7.05s\n",
      "999:\tlearn: 0.4021071\ttest: 0.2476696\tbest: 0.2594715 (334)\ttotal: 1m 13s\tremaining: 0us\n",
      "\n",
      "bestTest = 0.2594715293\n",
      "bestIteration = 334\n",
      "\n",
      "Shrink model to first 335 iterations.\n",
      "Accuracy: 0.38992688870836717\n",
      "Classification Report:\n",
      "               precision    recall  f1-score   support\n",
      "\n",
      "         1.0       0.02      0.15      0.04        61\n",
      "         2.0       0.05      0.04      0.05       120\n",
      "         3.0       0.18      0.25      0.21       746\n",
      "         4.0       0.41      0.51      0.46      2285\n",
      "         5.0       0.58      0.35      0.44      2943\n",
      "\n",
      "    accuracy                           0.39      6155\n",
      "   macro avg       0.25      0.26      0.24      6155\n",
      "weighted avg       0.45      0.39      0.41      6155\n",
      "\n"
     ]
    }
   ],
   "execution_count": 13
  },
  {
   "metadata": {
    "ExecuteTime": {
     "end_time": "2025-03-13T01:09:18.968799Z",
     "start_time": "2025-03-13T01:07:14.928322Z"
    }
   },
   "cell_type": "code",
   "source": [
    "# SMOTE 적용\n",
    "smote = SMOTE(sampling_strategy={1.0: 2000, 2.0: 2000, 3.0: 4000}, random_state=42)\n",
    "X_resampled, y_resampled = smote.fit_resample(X, y)\n",
    "\n",
    "# 학습/테스트 데이터 분리 (80% 학습, 20% 테스트)\n",
    "X_train, X_test, y_train, y_test = train_test_split(X_resampled, y_resampled, test_size=0.2, random_state=42)\n",
    "\n",
    "# CatBoost 분류기 초기화\n",
    "model = CatBoostClassifier(\n",
    "    iterations=1000,\n",
    "    learning_rate=0.1,\n",
    "    depth=6,\n",
    "    loss_function='MultiClass',\n",
    "    eval_metric='Accuracy',\n",
    "    random_seed=42,\n",
    "    verbose=100\n",
    ")\n",
    "\n",
    "# 모델 학습\n",
    "model.fit(X_train, y_train, cat_features=cat_features, eval_set=(X_test, y_test))\n",
    "\n",
    "# 테스트 데이터로 예측\n",
    "y_pred = model.predict(X_test)\n",
    "\n",
    "# 모델 성능 평가\n",
    "print(\"Accuracy:\", accuracy_score(y_test, y_pred))\n",
    "print(\"Classification Report:\\n\", classification_report(y_test, y_pred))"
   ],
   "id": "6707538ed53549d0",
   "outputs": [
    {
     "name": "stdout",
     "output_type": "stream",
     "text": [
      "0:\tlearn: 0.4305105\ttest: 0.4308231\tbest: 0.4308231 (0)\ttotal: 31.8ms\tremaining: 31.7s\n",
      "100:\tlearn: 0.4879410\ttest: 0.4632224\tbest: 0.4649737 (97)\ttotal: 13.2s\tremaining: 1m 57s\n",
      "200:\tlearn: 0.5275660\ttest: 0.4953298\tbest: 0.4956217 (196)\ttotal: 25.2s\tremaining: 1m 40s\n",
      "300:\tlearn: 0.5545664\ttest: 0.5089025\tbest: 0.5096322 (293)\ttotal: 37.3s\tremaining: 1m 26s\n",
      "400:\tlearn: 0.5778816\ttest: 0.5090485\tbest: 0.5126970 (354)\ttotal: 49.6s\tremaining: 1m 14s\n",
      "500:\tlearn: 0.6033860\ttest: 0.5140105\tbest: 0.5154699 (493)\ttotal: 1m 2s\tremaining: 1m 1s\n",
      "600:\tlearn: 0.6253877\ttest: 0.5179510\tbest: 0.5188266 (597)\ttotal: 1m 14s\tremaining: 49.3s\n",
      "700:\tlearn: 0.6439961\ttest: 0.5248103\tbest: 0.5255400 (687)\ttotal: 1m 26s\tremaining: 36.9s\n",
      "800:\tlearn: 0.6619477\ttest: 0.5296264\tbest: 0.5302102 (793)\ttotal: 1m 38s\tremaining: 24.6s\n",
      "900:\tlearn: 0.6808115\ttest: 0.5350263\tbest: 0.5360479 (892)\ttotal: 1m 51s\tremaining: 12.2s\n",
      "999:\tlearn: 0.6983617\ttest: 0.5375073\tbest: 0.5375073 (998)\ttotal: 2m 3s\tremaining: 0us\n",
      "\n",
      "bestTest = 0.5375072971\n",
      "bestIteration = 998\n",
      "\n",
      "Shrink model to first 999 iterations.\n",
      "Accuracy: 0.5375072971395213\n",
      "Classification Report:\n",
      "               precision    recall  f1-score   support\n",
      "\n",
      "         1.0       0.68      0.52      0.59       383\n",
      "         2.0       0.58      0.24      0.34       399\n",
      "         3.0       0.33      0.03      0.05       789\n",
      "         4.0       0.49      0.50      0.49      2329\n",
      "         5.0       0.56      0.75      0.64      2952\n",
      "\n",
      "    accuracy                           0.54      6852\n",
      "   macro avg       0.53      0.41      0.42      6852\n",
      "weighted avg       0.52      0.54      0.50      6852\n",
      "\n"
     ]
    }
   ],
   "execution_count": 24
  },
  {
   "metadata": {
    "ExecuteTime": {
     "end_time": "2025-03-13T01:22:23.336764Z",
     "start_time": "2025-03-13T01:22:23.317168Z"
    }
   },
   "cell_type": "code",
   "source": "X['TRAVEL_STYL_1'].unique()",
   "id": "13cbf6a463bcbb4e",
   "outputs": [
    {
     "data": {
      "text/plain": [
       "array([4, 7, 6, 3, 2, 5, 1])"
      ]
     },
     "execution_count": 25,
     "metadata": {},
     "output_type": "execute_result"
    }
   ],
   "execution_count": 25
  },
  {
   "metadata": {},
   "cell_type": "code",
   "source": [
    "def recommend_top_travel_destinations(user_input, model, df_learning, top_n=10):\n",
    "    # 사용자 입력에서 VISIT_AREA_TYPE_CD 제외\n",
    "    input_features = [f for f in cat_features if f != 'VISIT_AREA_TYPE_CD']\n",
    "    input_df = pd.DataFrame([user_input], columns=input_features)\n",
    "    input_df[input_features] = input_df[input_features].astype('int32')\n",
    "\n",
    "    # 고유한 VISIT_AREA_NM과 VISIT_AREA_TYPE_CD 쌍 추출\n",
    "    destinations = df_learning[['VISIT_AREA_NM', 'VISIT_AREA_TYPE_CD']].drop_duplicates()\n",
    "\n",
    "    # 각 여행지에 대해 사용자 입력값과 결합\n",
    "    prediction_data = []\n",
    "    for _, row in destinations.iterrows():\n",
    "        combined_input = user_input.copy()\n",
    "        combined_input['VISIT_AREA_TYPE_CD'] = row['VISIT_AREA_TYPE_CD']\n",
    "        prediction_data.append(combined_input)\n",
    "\n",
    "    # 예측용 DataFrame 생성\n",
    "    prediction_df = pd.DataFrame(prediction_data, columns=cat_features)\n",
    "    prediction_df[cat_features] = prediction_df[cat_features].astype('int32')\n",
    "\n",
    "    # 5.0 확률 예측\n",
    "    proba = model.predict_proba(prediction_df)\n",
    "    prob_5 = proba[:, 4]  # 5.0은 인덱스 4 (1.0, 2.0, 3.0, 4.0, 5.0 순)\n",
    "\n",
    "    # 추천 결과\n",
    "    recommendations = pd.DataFrame({\n",
    "        'VISIT_AREA_NM': destinations['VISIT_AREA_NM'],\n",
    "        'VISIT_AREA_TYPE_CD': destinations['VISIT_AREA_TYPE_CD'],\n",
    "        'Probability_5.0': prob_5\n",
    "    })\n",
    "    return recommendations.nlargest(top_n, 'Probability_5.0')"
   ],
   "id": "142ddaa1f6f93eaf",
   "outputs": [],
   "execution_count": null
  },
  {
   "metadata": {
    "ExecuteTime": {
     "end_time": "2025-03-13T01:34:42.498828Z",
     "start_time": "2025-03-13T01:34:42.210203Z"
    }
   },
   "cell_type": "code",
   "source": [
    "\n",
    "# 예시 사용자 입력\n",
    "user_input = {\n",
    "    'GENDER': 1,\n",
    "    'AGE_GRP': 3,\n",
    "    'TRAVEL_STYL_1': 1,\n",
    "    'TRAVEL_STYL_2': 2,\n",
    "    'TRAVEL_STYL_3': 1,\n",
    "    'TRAVEL_STYL_4': 6,\n",
    "    'TRAVEL_STYL_5': 4,\n",
    "    'TRAVEL_STYL_6': 2,\n",
    "    'TRAVEL_STYL_7': 3,\n",
    "    'TRAVEL_STYL_8': 1,\n",
    "    'TRAVEL_MOTIVE_1': 1,\n",
    "    'TRAVEL_COMPANIONS_NUM': 2,\n",
    "    'TRAVEL_MISSION_INT': 1\n",
    "}\n",
    "\n",
    "# 추천 실행\n",
    "recommendations = recommend_top_travel_destinations(user_input, model, df_learning)\n",
    "print(\"Top 10 Recommended Destinations:\")\n",
    "print(recommendations)"
   ],
   "id": "388e35a8e78df340",
   "outputs": [
    {
     "name": "stdout",
     "output_type": "stream",
     "text": [
      "Top 10 Recommended Destinations:\n",
      "                VISIT_AREA_NM  VISIT_AREA_TYPE_CD  Probability_5.0\n",
      "0                      프로방스마을                   7         0.386938\n",
      "5                         청계천                   7         0.386938\n",
      "12                    삼송역 3호선                   7         0.386938\n",
      "145                  오이도 빨강등대                   7         0.386938\n",
      "186                    오이도 바다                   7         0.386938\n",
      "195                      물의정원                   7         0.386938\n",
      "318                     금융감독원                   7         0.386938\n",
      "375  서울특별시 광진구 광장동 워커힐 가는 산책로                   7         0.386938\n",
      "500              마포 걷고싶은길 4코스                   7         0.386938\n",
      "586               남한산성둘레길 2코스                   7         0.386938\n"
     ]
    }
   ],
   "execution_count": 30
  },
  {
   "metadata": {
    "ExecuteTime": {
     "end_time": "2025-03-13T01:43:21.407182Z",
     "start_time": "2025-03-13T01:43:18.374485Z"
    }
   },
   "cell_type": "code",
   "source": [
    "# 테스트 셋에서 샘플 추출 (예: 10개)\n",
    "n_samples = 10\n",
    "sample_indices = np.random.choice(X_test.index, size=n_samples, replace=False)\n",
    "X_test_sample = X_test.loc[sample_indices]\n",
    "y_test_sample = y_test.loc[sample_indices]\n",
    "\n",
    "# 예측 수행\n",
    "y_pred_sample = model.predict(X_test_sample)\n",
    "proba_sample = model.predict_proba(X_test_sample)\n",
    "prob_5_sample = proba_sample[:, 4]  # 5.0 확률 (인덱스 4)\n",
    "\n",
    "# 결과 비교를 위한 DataFrame 생성\n",
    "comparison_df = pd.DataFrame({\n",
    "    'Actual_Satisfaction': y_test_sample,\n",
    "    'Predicted_Satisfaction': y_pred_sample.flatten(),  # 1D 배열로 변환\n",
    "    'Probability_5.0': prob_5_sample\n",
    "}, index=sample_indices)\n",
    "\n",
    "# 추천 함수 (VISIT_AREA_TYPE_CD를 사용자 입력에서 제외)\n",
    "def recommend_top_travel_destinations(user_input, model, df_learning, top_n=5):\n",
    "    input_features = [f for f in cat_features if f != 'VISIT_AREA_TYPE_CD']\n",
    "    input_df = pd.DataFrame([user_input], columns=input_features)\n",
    "    input_df[input_features] = input_df[input_features].astype('int32')\n",
    "\n",
    "    # 고유한 VISIT_AREA_NM과 VISIT_AREA_TYPE_CD 쌍 추출\n",
    "    destinations = df_learning[['VISIT_AREA_NM', 'VISIT_AREA_TYPE_CD']].drop_duplicates()\n",
    "\n",
    "    # 각 여행지에 대해 사용자 입력값과 결합\n",
    "    prediction_data = []\n",
    "    for _, row in destinations.iterrows():\n",
    "        combined_input = user_input.copy()\n",
    "        combined_input['VISIT_AREA_TYPE_CD'] = row['VISIT_AREA_TYPE_CD']\n",
    "        prediction_data.append(combined_input)\n",
    "\n",
    "    prediction_df = pd.DataFrame(prediction_data, columns=cat_features)\n",
    "    prediction_df[cat_features] = prediction_df[cat_features].astype('int32')\n",
    "\n",
    "    # 5.0 확률 예측\n",
    "    proba = model.predict_proba(prediction_df)\n",
    "    prob_5 = proba[:, 4]\n",
    "\n",
    "    # 추천 결과\n",
    "    recommendations = pd.DataFrame({\n",
    "        'VISIT_AREA_NM': destinations['VISIT_AREA_NM'],\n",
    "        'VISIT_AREA_TYPE_CD': destinations['VISIT_AREA_TYPE_CD'],\n",
    "        'Probability_5.0': prob_5\n",
    "    })\n",
    "    return recommendations.nlargest(top_n, 'Probability_5.0')\n",
    "\n",
    "# 샘플별 예측 및 추천 출력\n",
    "print(\"Test Set Sample Predictions vs Actual:\")\n",
    "print(comparison_df)\n",
    "print(\"\\nRecommendations for Each Sample:\")\n",
    "for idx in sample_indices:\n",
    "    user_input = X_test_sample.loc[idx].to_dict()\n",
    "    # VISIT_AREA_TYPE_CD는 추천 시 동적으로 추가되므로 입력에서 제외\n",
    "    user_input_clean = {k: v for k, v in user_input.items() if k != 'VISIT_AREA_TYPE_CD'}\n",
    "    recommendations = recommend_top_travel_destinations(user_input_clean, model, df_learning, top_n=3)\n",
    "    print(f\"\\nSample {idx}:\")\n",
    "    print(f\"Actual: {y_test_sample.loc[idx]}, Predicted: {y_pred_sample[sample_indices.tolist().index(idx)]}, Prob 5.0: {prob_5_sample[sample_indices.tolist().index(idx)]:.4f}\")\n",
    "    print(\"Top 3 Recommended Destinations:\")\n",
    "    print(recommendations)\n",
    "\n",
    "# 전체 테스트 셋 성능 (참고용)\n",
    "y_pred_full = model.predict(X_test)\n",
    "print(\"\\nFull Test Set Accuracy:\", accuracy_score(y_test, y_pred_full))\n",
    "print(\"Full Test Set Classification Report:\\n\", classification_report(y_test, y_pred_full))"
   ],
   "id": "9fe40b3c846f9596",
   "outputs": [
    {
     "name": "stdout",
     "output_type": "stream",
     "text": [
      "Test Set Sample Predictions vs Actual:\n",
      "       Actual_Satisfaction  Predicted_Satisfaction  Probability_5.0\n",
      "29612                  4.0                     4.0         0.208904\n",
      "30944                  1.0                     1.0         0.023610\n",
      "3268                   4.0                     4.0         0.385208\n",
      "4209                   5.0                     5.0         0.546451\n",
      "27450                  5.0                     5.0         0.441858\n",
      "31032                  1.0                     1.0         0.011386\n",
      "22524                  4.0                     5.0         0.409238\n",
      "29082                  4.0                     4.0         0.275620\n",
      "27261                  5.0                     5.0         0.759519\n",
      "27592                  5.0                     5.0         0.348882\n",
      "\n",
      "Recommendations for Each Sample:\n",
      "\n",
      "Sample 29612:\n",
      "Actual: 4.0, Predicted: [4.], Prob 5.0: 0.2089\n",
      "Top 3 Recommended Destinations:\n",
      "     VISIT_AREA_NM  VISIT_AREA_TYPE_CD  Probability_5.0\n",
      "285     워터플레이 수상레저                   5          0.24334\n",
      "342  잠실종합운동장 실내체육관                   5          0.24334\n",
      "408       동작구민체육센터                   5          0.24334\n",
      "\n",
      "Sample 30944:\n",
      "Actual: 1.0, Predicted: [1.], Prob 5.0: 0.0236\n",
      "Top 3 Recommended Destinations:\n",
      "    VISIT_AREA_NM  VISIT_AREA_TYPE_CD  Probability_5.0\n",
      "30      자라섬재즈페스티벌                   8         0.139726\n",
      "626       이태원역교차로                   8         0.139726\n",
      "733        서울뷰티위크                   8         0.139726\n",
      "\n",
      "Sample 3268:\n",
      "Actual: 4.0, Predicted: [4.], Prob 5.0: 0.3852\n",
      "Top 3 Recommended Destinations:\n",
      "    VISIT_AREA_NM  VISIT_AREA_TYPE_CD  Probability_5.0\n",
      "30      자라섬재즈페스티벌                   8         0.598552\n",
      "626       이태원역교차로                   8         0.598552\n",
      "733        서울뷰티위크                   8         0.598552\n",
      "\n",
      "Sample 4209:\n",
      "Actual: 5.0, Predicted: [5.], Prob 5.0: 0.5465\n",
      "Top 3 Recommended Destinations:\n",
      "   VISIT_AREA_NM  VISIT_AREA_TYPE_CD  Probability_5.0\n",
      "44       아차산 4보루                   1         0.546451\n",
      "54         남도꽃정원                   1         0.546451\n",
      "60           서울숲                   1         0.546451\n",
      "\n",
      "Sample 27450:\n",
      "Actual: 5.0, Predicted: [5.], Prob 5.0: 0.4419\n",
      "Top 3 Recommended Destinations:\n",
      "     VISIT_AREA_NM  VISIT_AREA_TYPE_CD  Probability_5.0\n",
      "285     워터플레이 수상레저                   5         0.668638\n",
      "342  잠실종합운동장 실내체육관                   5         0.668638\n",
      "408       동작구민체육센터                   5         0.668638\n",
      "\n",
      "Sample 31032:\n",
      "Actual: 1.0, Predicted: [1.], Prob 5.0: 0.0114\n",
      "Top 3 Recommended Destinations:\n",
      "    VISIT_AREA_NM  VISIT_AREA_TYPE_CD  Probability_5.0\n",
      "30      자라섬재즈페스티벌                   8         0.024147\n",
      "626       이태원역교차로                   8         0.024147\n",
      "733        서울뷰티위크                   8         0.024147\n",
      "\n",
      "Sample 22524:\n",
      "Actual: 4.0, Predicted: [5.], Prob 5.0: 0.4092\n",
      "Top 3 Recommended Destinations:\n",
      "        VISIT_AREA_NM  VISIT_AREA_TYPE_CD  Probability_5.0\n",
      "110              에버랜드                   6         0.443996\n",
      "244         웨스틴조선 수영장                   6         0.443996\n",
      "271  화성관광열차안내소 연무대매표소                   6         0.443996\n",
      "\n",
      "Sample 29082:\n",
      "Actual: 4.0, Predicted: [4.], Prob 5.0: 0.2756\n",
      "Top 3 Recommended Destinations:\n",
      "     VISIT_AREA_NM  VISIT_AREA_TYPE_CD  Probability_5.0\n",
      "285     워터플레이 수상레저                   5         0.510534\n",
      "342  잠실종합운동장 실내체육관                   5         0.510534\n",
      "408       동작구민체육센터                   5         0.510534\n",
      "\n",
      "Sample 27261:\n",
      "Actual: 5.0, Predicted: [5.], Prob 5.0: 0.7595\n",
      "Top 3 Recommended Destinations:\n",
      "   VISIT_AREA_NM  VISIT_AREA_TYPE_CD  Probability_5.0\n",
      "0         프로방스마을                   7         0.783905\n",
      "5            청계천                   7         0.783905\n",
      "12       삼송역 3호선                   7         0.783905\n",
      "\n",
      "Sample 27592:\n",
      "Actual: 5.0, Predicted: [5.], Prob 5.0: 0.3489\n",
      "Top 3 Recommended Destinations:\n",
      "    VISIT_AREA_NM  VISIT_AREA_TYPE_CD  Probability_5.0\n",
      "30      자라섬재즈페스티벌                   8         0.389919\n",
      "626       이태원역교차로                   8         0.389919\n",
      "733        서울뷰티위크                   8         0.389919\n",
      "\n",
      "Full Test Set Accuracy: 0.5375072971395213\n",
      "Full Test Set Classification Report:\n",
      "               precision    recall  f1-score   support\n",
      "\n",
      "         1.0       0.68      0.52      0.59       383\n",
      "         2.0       0.58      0.24      0.34       399\n",
      "         3.0       0.33      0.03      0.05       789\n",
      "         4.0       0.49      0.50      0.49      2329\n",
      "         5.0       0.56      0.75      0.64      2952\n",
      "\n",
      "    accuracy                           0.54      6852\n",
      "   macro avg       0.53      0.41      0.42      6852\n",
      "weighted avg       0.52      0.54      0.50      6852\n",
      "\n"
     ]
    }
   ],
   "execution_count": 31
  },
  {
   "metadata": {
    "ExecuteTime": {
     "end_time": "2025-03-13T01:51:55.047528Z",
     "start_time": "2025-03-13T01:49:41.320054Z"
    }
   },
   "cell_type": "code",
   "source": [
    "# 학습 데이터에 VISIT_AREA_NM 추가\n",
    "le = LabelEncoder()\n",
    "X_extended = df_learning[cat_features + ['VISIT_AREA_NM']]\n",
    "X_extended['VISIT_AREA_NM'] = le.fit_transform(df_learning['VISIT_AREA_NM'])\n",
    "X_extended = X_extended.astype('int32')  # VISIT_AREA_NM은 인덱스나 코드로 변환 필요\n",
    "cat_features_extended = cat_features + ['VISIT_AREA_NM']\n",
    "\n",
    "# SMOTE 적용 및 학습\n",
    "smote = SMOTE(sampling_strategy={1.0: 2000, 2.0: 2000, 3.0: 4000}, random_state=42)\n",
    "X_resampled, y_resampled = smote.fit_resample(X_extended, y)\n",
    "X_resampled = np.round(X_resampled).astype('int32')\n",
    "X_train, X_test, y_train, y_test = train_test_split(X_resampled, y_resampled, test_size=0.2, random_state=42)\n",
    "\n",
    "model = CatBoostClassifier(\n",
    "    iterations=1000,\n",
    "    learning_rate=0.1,\n",
    "    depth=6,\n",
    "    loss_function='MultiClass',\n",
    "    eval_metric='Accuracy',\n",
    "    random_seed=42,\n",
    "    verbose=100\n",
    ")\n",
    "model.fit(X_train, y_train, cat_features=cat_features_extended, eval_set=(X_test, y_test))"
   ],
   "id": "bc1f971ab0a38078",
   "outputs": [
    {
     "name": "stderr",
     "output_type": "stream",
     "text": [
      "C:\\Users\\user1\\AppData\\Local\\Temp\\ipykernel_11200\\2224193623.py:4: SettingWithCopyWarning: \n",
      "A value is trying to be set on a copy of a slice from a DataFrame.\n",
      "Try using .loc[row_indexer,col_indexer] = value instead\n",
      "\n",
      "See the caveats in the documentation: https://pandas.pydata.org/pandas-docs/stable/user_guide/indexing.html#returning-a-view-versus-a-copy\n",
      "  X_extended['VISIT_AREA_NM'] = le.fit_transform(df_learning['VISIT_AREA_NM'])\n"
     ]
    },
    {
     "name": "stdout",
     "output_type": "stream",
     "text": [
      "0:\tlearn: 0.4598460\ttest: 0.4600117\tbest: 0.4600117 (0)\ttotal: 72.6ms\tremaining: 1m 12s\n",
      "100:\tlearn: 0.5368701\ttest: 0.5255400\tbest: 0.5255400 (100)\ttotal: 15.1s\tremaining: 2m 14s\n",
      "200:\tlearn: 0.5619002\ttest: 0.5407180\tbest: 0.5411559 (186)\ttotal: 28.1s\tremaining: 1m 51s\n",
      "300:\tlearn: 0.5821505\ttest: 0.5477233\tbest: 0.5477233 (287)\ttotal: 41s\tremaining: 1m 35s\n",
      "400:\tlearn: 0.6032400\ttest: 0.5537069\tbest: 0.5537069 (400)\ttotal: 54.3s\tremaining: 1m 21s\n",
      "500:\tlearn: 0.6205714\ttest: 0.5560420\tbest: 0.5564799 (498)\ttotal: 1m 7s\tremaining: 1m 7s\n",
      "600:\tlearn: 0.6391068\ttest: 0.5564799\tbest: 0.5576474 (529)\ttotal: 1m 20s\tremaining: 53.5s\n",
      "700:\tlearn: 0.6558543\ttest: 0.5580852\tbest: 0.5583771 (619)\ttotal: 1m 33s\tremaining: 39.9s\n",
      "800:\tlearn: 0.6712884\ttest: 0.5576474\tbest: 0.5605663 (758)\ttotal: 1m 46s\tremaining: 26.5s\n",
      "900:\tlearn: 0.6889116\ttest: 0.5608581\tbest: 0.5623176 (885)\ttotal: 2m\tremaining: 13.2s\n",
      "999:\tlearn: 0.7052213\ttest: 0.5631932\tbest: 0.5645067 (960)\ttotal: 2m 13s\tremaining: 0us\n",
      "\n",
      "bestTest = 0.5645067134\n",
      "bestIteration = 960\n",
      "\n",
      "Shrink model to first 961 iterations.\n"
     ]
    },
    {
     "data": {
      "text/plain": [
       "<catboost.core.CatBoostClassifier at 0x1f73e12d4f0>"
      ]
     },
     "execution_count": 33,
     "metadata": {},
     "output_type": "execute_result"
    }
   ],
   "execution_count": 33
  },
  {
   "metadata": {
    "ExecuteTime": {
     "end_time": "2025-03-13T01:53:12.953563Z",
     "start_time": "2025-03-13T01:53:12.614128Z"
    }
   },
   "cell_type": "code",
   "source": [
    "def recommend_top_travel_destinations(user_input, model, df_learning, top_n=10):\n",
    "    # 고유 VISIT_AREA_NM과 VISIT_AREA_TYPE_CD\n",
    "    destinations = df_learning[['VISIT_AREA_NM', 'VISIT_AREA_TYPE_CD']].drop_duplicates()\n",
    "    destinations['VISIT_AREA_NM_CODE'] = le.transform(destinations['VISIT_AREA_NM'])\n",
    "\n",
    "    # 예측 데이터 생성\n",
    "    prediction_data = []\n",
    "    for _, row in destinations.iterrows():\n",
    "        combined_input = user_input.copy()\n",
    "        combined_input['VISIT_AREA_TYPE_CD'] = row['VISIT_AREA_TYPE_CD']\n",
    "        combined_input['VISIT_AREA_NM'] = row['VISIT_AREA_NM_CODE']\n",
    "        prediction_data.append(combined_input)\n",
    "\n",
    "    prediction_df = pd.DataFrame(prediction_data, columns=cat_features_extended)\n",
    "    prediction_df[cat_features_extended] = prediction_df[cat_features_extended].astype('int32')\n",
    "\n",
    "    # 5.0 확률 예측\n",
    "    proba = model.predict_proba(prediction_df)\n",
    "    prob_5 = proba[:, 4]\n",
    "\n",
    "    # 추천 결과\n",
    "    recommendations = pd.DataFrame({\n",
    "        'VISIT_AREA_NM': destinations['VISIT_AREA_NM'],\n",
    "        'VISIT_AREA_TYPE_CD': destinations['VISIT_AREA_TYPE_CD'],\n",
    "        'Probability_5.0': prob_5\n",
    "    })\n",
    "    return recommendations.nlargest(top_n, 'Probability_5.0')\n",
    "\n",
    "# 예시 사용자 입력\n",
    "user_input = {\n",
    "    'GENDER': 1, 'AGE_GRP': 3, 'TRAVEL_STYL_1': 1, 'TRAVEL_STYL_2': 2,\n",
    "    'TRAVEL_STYL_3': 1, 'TRAVEL_STYL_4': 2, 'TRAVEL_STYL_5': 1,\n",
    "    'TRAVEL_STYL_6': 1, 'TRAVEL_STYL_7': 1, 'TRAVEL_STYL_8': 2,\n",
    "    'TRAVEL_MOTIVE_1': 1, 'TRAVEL_COMPANIONS_NUM': 2, 'TRAVEL_MISSION_INT': 1\n",
    "}\n",
    "recommendations = recommend_top_travel_destinations(user_input, model, df_learning)\n",
    "print(recommendations)"
   ],
   "id": "99c3f7e6f9f515a3",
   "outputs": [
    {
     "name": "stdout",
     "output_type": "stream",
     "text": [
      "       VISIT_AREA_NM  VISIT_AREA_TYPE_CD  Probability_5.0\n",
      "31651   태화강국가정원 십리대숲                   7         0.408533\n",
      "103015       한라산국립공원                   1         0.403646\n",
      "760              덕수궁                   2         0.391664\n",
      "70438    전북대학교 전주캠퍼스                   7         0.381596\n",
      "106101       서우봉 산책로                   7         0.379590\n",
      "115855            우도                   7         0.378461\n",
      "110989         스누피가든                   7         0.371141\n",
      "102878        쏠비치 진도                   7         0.367684\n",
      "30773   태화강국가정원 십리대숲                   1         0.363457\n",
      "68313         담양관방제림                   7         0.361022\n"
     ]
    }
   ],
   "execution_count": 35
  }
 ],
 "metadata": {
  "kernelspec": {
   "display_name": "Python 3",
   "language": "python",
   "name": "python3"
  },
  "language_info": {
   "codemirror_mode": {
    "name": "ipython",
    "version": 2
   },
   "file_extension": ".py",
   "mimetype": "text/x-python",
   "name": "python",
   "nbconvert_exporter": "python",
   "pygments_lexer": "ipython2",
   "version": "2.7.6"
  }
 },
 "nbformat": 4,
 "nbformat_minor": 5
}
